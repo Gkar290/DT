{
  "nbformat": 4,
  "nbformat_minor": 0,
  "metadata": {
    "colab": {
      "provenance": []
    },
    "kernelspec": {
      "name": "python3",
      "display_name": "Python 3"
    },
    "language_info": {
      "name": "python"
    }
  },
  "cells": [
    {
      "cell_type": "markdown",
      "source": [
        "QSN-1-What is a Decision Tree, and how does it work\n",
        "\n",
        "ANS-\n",
        "A Decision Tree is a supervised learning algorithm that uses a tree-like structure to classify data or make predictions. It's a simple, intuitive, and powerful model that's widely used in Machine Learning.\n",
        "\n",
        "How does it work?\n",
        "1. Root Node: The algorithm starts with a root node that represents the entire dataset.\n",
        "2. Splitting: The algorithm splits the data into subsets based on a specific feature or attribute.\n",
        "3. Decision Nodes: Each subset is represented by a decision node, which asks a question about the data.\n",
        "4. Leaf Nodes: The algorithm continues splitting until it reaches a leaf node, which represents a predicted class label or target value.\n",
        "5. Prediction: The algorithm traverses the tree from the root node to a leaf node, making predictions based on the input features.\n"
      ],
      "metadata": {
        "id": "_dpUjPCHs32U"
      }
    },
    {
      "cell_type": "markdown",
      "source": [
        "QSN-2-What are impurity measures in Decision Trees.\n",
        "\n",
        "ANS-\n",
        "Impurity measures are used to evaluate the quality of a split in a Decision Tree. They help determine how well a feature separates the classes in the data.\n",
        "\n",
        "Common impurity measures:\n",
        "1. Gini Impurity: Measures the probability of misclassifying a randomly chosen instance from a node.\n",
        "2. Entropy: Measures the uncertainty or randomness in the data.\n",
        "3. Variance: Used for regression problems, measures the spread of the target variable.\n"
      ],
      "metadata": {
        "id": "2jkrwZ7Utwi6"
      }
    },
    {
      "cell_type": "markdown",
      "source": [
        "QSN-3-What is the mathematical formula for Gini Impurity.\n",
        "\n",
        "ANS-\n",
        "Gini Impurity = 1 - Σ (p_i)^2\n",
        "\n",
        "Where:\n",
        "\n",
        "1. p_i: Proportion of instances in the node that belong to class i\n",
        "2. Σ: Summation over all classes\n"
      ],
      "metadata": {
        "id": "77BPTE9xt2iY"
      }
    },
    {
      "cell_type": "markdown",
      "source": [
        "QSN-4-What is the mathematical formula for Entropy.\n",
        "\n",
        "ANS-\n",
        "Entropy = - Σ (p_i * log2(p_i))\n",
        "\n",
        "Where:\n",
        "\n",
        "1. p_i: Proportion of instances in the node that belong to class i\n",
        "2. Σ: Summation over all classes\n",
        "3. log2: Logarithm to the base 2\n"
      ],
      "metadata": {
        "id": "lQuD-uJxuk-O"
      }
    },
    {
      "cell_type": "markdown",
      "source": [
        "QSN-5-What is Information Gain, and how is it used in Decision Trees.\n",
        "\n",
        "ANS-\n",
        "Information Gain is a measure used in Decision Trees to evaluate the usefulness of a feature in splitting the data. It calculates the reduction in uncertainty or entropy after splitting the data based on a particular feature.\n",
        "\n",
        "Formula:\n",
        "Information Gain = Entropy(parent) - Σ (|Sv|/|S| * Entropy(Sv))\n",
        "\n",
        "Where:\n",
        "\n",
        "1. Entropy(parent): Entropy of the parent node\n",
        "2. Sv: Subset of instances in the parent node that have a specific value for the feature\n",
        "3. |Sv|/|S|: Proportion of instances in the subset Sv\n",
        "4. Entropy(Sv): Entropy of the subset Sv\n",
        "\n",
        "How is it used in Decision Trees?\n",
        "1. Feature selection: Information Gain helps select the most informative feature to split the data.\n",
        "2. Splitting: The feature with the highest Information Gain is chosen for splitting.\n",
        "3. Tree construction: Information Gain guides the construction of the Decision Tree."
      ],
      "metadata": {
        "id": "8V0_MBvOutkY"
      }
    },
    {
      "cell_type": "markdown",
      "source": [
        "QSN-7-What is the mathematical explanation behind Decision Trees.\n",
        "\n",
        "ANS-\n",
        "\n",
        "Decision Trees are based on the concept of recursive partitioning, where the data is recursively split into subsets based on the features.\n",
        "\n",
        "Key components:\n",
        "1. Splitting criterion: Decision Trees use a splitting criterion, such as Gini Impurity or Entropy, to determine the best feature to split the data.\n",
        "2. Information Gain: The feature with the highest Information Gain is chosen for splitting.\n",
        "3. Recursive partitioning: The data is recursively split into subsets until a stopping criterion is reached.\n",
        "\n",
        "Mathematical formulation:\n",
        "Let's consider a Decision Tree with a single split:\n",
        "\n",
        "1. Parent node: The parent node has a set of instances S with entropy H(S).\n",
        "2. Splitting feature: The feature X is used to split the data into subsets S1 and S2.\n",
        "3. Information Gain: The Information Gain is calculated as IG(S, X) = H(S) - (|S1|/|S| * H(S1) + |S2|/|S| * H(S2))"
      ],
      "metadata": {
        "id": "T0MO8KBYvFY4"
      }
    },
    {
      "cell_type": "markdown",
      "source": [
        "QSN-8-What is Pre-Pruning in Decision Trees\n",
        "\n",
        "ANS-\n",
        "Pre-pruning, also known as early stopping, is a technique used in Decision Trees to prevent overfitting by stopping the growth of the tree before it becomes too complex.\n",
        "\n",
        "How Pre-Pruning works:\n",
        "1. Stopping criteria: Pre-pruning uses stopping criteria, such as maximum depth, minimum samples, or minimum impurity decrease, to determine when to stop growing the tree.\n",
        "2. Halting tree growth: When a stopping criterion is met, the tree growth is halted, and the node is converted into a leaf node.\n"
      ],
      "metadata": {
        "id": "8D4Ubx0tvWfI"
      }
    },
    {
      "cell_type": "markdown",
      "source": [
        "QSN-9-What is Post-Pruning in Decision Trees\n",
        "\n",
        "ANS-\n",
        "Post-pruning, also known as pruning, is a technique used in Decision Trees to reduce overfitting by removing branches or nodes that do not contribute significantly to the model's performance.\n",
        "\n",
        "How Post-Pruning works:\n",
        "1. Growing a full tree: A full Decision Tree is grown, allowing it to overfit the training data.\n",
        "2. Evaluating subtrees: The algorithm evaluates subtrees and determines whether removing a branch or node improves the model's performance on a validation set.\n",
        "3. Pruning: Branches or nodes that do not contribute to the model's performance are removed."
      ],
      "metadata": {
        "id": "2qwWWPxovkYp"
      }
    },
    {
      "cell_type": "markdown",
      "source": [
        "QSN-10-What is the difference between Pre-Pruning and Post-Pruning.\n",
        "\n",
        "ANS-\n",
        "\n",
        "Key differences:\n",
        "1. Timing: Pre-pruning occurs during tree construction, while post-pruning occurs after the tree is fully grown.\n",
        "2. Approach: Pre-pruning stops growing the tree based on predefined criteria, whereas post-pruning removes branches from a fully grown tree.\n",
        "3. Decision-making: Pre-pruning decisions are made based on local information, whereas post-pruning decisions consider the entire tree.\n"
      ],
      "metadata": {
        "id": "-wOxLVp-vzSO"
      }
    },
    {
      "cell_type": "markdown",
      "source": [
        "QSN-11-What is a Decision Tree Regresson.\n",
        "\n",
        "ANS-\n",
        "A Decision Tree Regressor is a type of regression model that uses a decision tree-like structure to predict continuous outcomes. It's similar to a Decision Tree Classifier, but instead of predicting classes, it predicts numerical values.\n",
        "\n",
        "How does it work?\n",
        "1. Splitting: The algorithm splits the data into subsets based on the features.\n",
        "2. Node creation: Each internal node represents a feature or attribute, and each leaf node represents a predicted value.\n",
        "3. Prediction: The algorithm traverses the tree from the root node to a leaf node, making predictions based on the input features.\n"
      ],
      "metadata": {
        "id": "XaALghL1v-oF"
      }
    },
    {
      "cell_type": "markdown",
      "source": [
        "QSN-12- What are the advantages and disadvantages of Decision Trees.\n",
        "\n",
        "ANS-\n",
        "Advantages:\n",
        "1. Interpretability: Decision Trees are relatively easy to understand and interpret, making them a popular choice for many applications.\n",
        "2. Handling non-linear relationships: Decision Trees can handle non-linear relationships between features and target variables.\n",
        "3. Handling categorical features: They can handle categorical features naturally.\n",
        "4. Handling missing values: Decision Trees can handle missing values in the data.\n",
        "5. Fast training: Training a Decision Tree can be relatively fast compared to other models.\n",
        "\n",
        "Disadvantages:\n",
        "1. Overfitting: Decision Trees can overfit the training data, especially if they're not regularized.\n",
        "2. Instability: Small changes in the data can lead to large changes in the tree structure.\n",
        "3. Greedy algorithm: Decision Trees use a greedy algorithm, which can lead to suboptimal solutions.\n",
        "4. Not suitable for complex relationships: While Decision Trees can handle non-linear relationships, they may not be the best choice for very complex relationships.\n",
        "5. Sensitive to noisy data: Decision Trees can be sensitive to noisy data, which can affect their performance.\n",
        "\n"
      ],
      "metadata": {
        "id": "vYp_3zTvwPF_"
      }
    },
    {
      "cell_type": "markdown",
      "source": [
        "QSN-13-How does a Decision Tree handle missing values\n",
        "\n",
        "ANS-\n",
        "How Decision Trees handle missing values during training:\n",
        "1. Calculating split criterion: When calculating the split criterion, Decision Trees can ignore missing values or treat them as a separate category.\n",
        "2. Splitting: When splitting the data, Decision Trees can send instances with missing values to one side of the split or the other, based on the chosen strategy.\n",
        "\n",
        "Handling missing values during prediction:\n",
        "1. Following the tree: When making predictions, instances with missing values follow the tree based on the learned structure.\n",
        "2. Using surrogate features: If surrogate features were used during training, the Decision Tree can use them to make predictions when a feature has missing values.\n",
        "\n",
        "Impact on model performance:\n",
        "The choice of strategy for handling missing values can impact the performance of the Decision Tree model. It's essential to choose a strategy that aligns with the problem and data characteristics.\n"
      ],
      "metadata": {
        "id": "SNqhv9kUwcpo"
      }
    },
    {
      "cell_type": "markdown",
      "source": [
        "QSN-14-How does a Decision Tree handle categorical features\n",
        "\n",
        "ANS-\n",
        "1. One-hot encoding: Some Decision Tree algorithms use one-hot encoding to convert categorical features into numerical features.\n",
        "2. Categorical splits: Decision Trees can make splits based on categorical features by grouping categories or using techniques like binary splits.\n"
      ],
      "metadata": {
        "id": "ALdd65PZxKRi"
      }
    },
    {
      "cell_type": "markdown",
      "source": [
        "QSN-15-What are some real-world applications of Decision Trees.\n",
        "\n",
        "ANS-\n",
        "Real-World Applications of Decision Trees:\n",
        "\n",
        "Business and Finance:\n",
        "1. Credit risk assessment: Decision Trees are used to evaluate creditworthiness and predict loan defaults.\n",
        "2. Customer segmentation: Decision Trees help segment customers based on behavior, demographics, and preferences.\n",
        "3. Predicting stock prices: Decision Trees can be used to predict stock prices based on historical data and market trends.\n",
        "\n",
        "Healthcare:\n",
        "1. Disease diagnosis: Decision Trees are used to diagnose diseases based on symptoms, medical history, and test results.\n",
        "2. Patient outcome prediction: Decision Trees predict patient outcomes, such as response to treatment or likelihood of complications.\n",
        "3. Medical imaging analysis: Decision Trees can be used to analyze medical images and detect abnormalities.\n",
        "\n",
        "Marketing:\n",
        "1. Customer churn prediction: Decision Trees predict customer churn based on behavior, demographics, and usage patterns.\n",
        "2. Personalized marketing: Decision Trees help personalize marketing campaigns based on customer preferences and behavior.\n",
        "3. Product recommendation: Decision Trees recommend products based on customer behavior, preferences, and purchase history.\n"
      ],
      "metadata": {
        "id": "cpkJSxCNxztk"
      }
    },
    {
      "cell_type": "code",
      "source": [
        "#QSN-16-Write a Python program to train a Decision Tree Classifier on the Iris dataset and print the model accuracy\n",
        "\n",
        "#ANS-\n",
        "# Import necessary libraries\n",
        "from sklearn.datasets import load_iris\n",
        "from sklearn.model_selection import train_test_split\n",
        "from sklearn.tree import DecisionTreeClassifier\n",
        "from sklearn.metrics import accuracy_score\n",
        "\n",
        "# Load the Iris dataset\n",
        "iris = load_iris()\n",
        "X = iris.data\n",
        "y = iris.target\n",
        "\n",
        "# Split the dataset into training and testing sets\n",
        "X_train, X_test, y_train, y_test = train_test_split(X, y, test_size=0.2, random_state=42)\n",
        "\n",
        "# Create a Decision Tree Classifier\n",
        "clf = DecisionTreeClassifier(random_state=42)\n",
        "\n",
        "# Train the model\n",
        "clf.fit(X_train, y_train)\n",
        "\n",
        "# Make predictions\n",
        "y_pred = clf.predict(X_test)\n",
        "\n",
        "# Calculate and print the model accuracy\n",
        "accuracy = accuracy_score(y_test, y_pred)\n",
        "print(f\"Model Accuracy: {accuracy:.2f}\")\n"
      ],
      "metadata": {
        "colab": {
          "base_uri": "https://localhost:8080/"
        },
        "id": "crbuX6flyI9g",
        "outputId": "8379694f-56db-405b-d5b6-c64891baaf17"
      },
      "execution_count": null,
      "outputs": [
        {
          "output_type": "stream",
          "name": "stdout",
          "text": [
            "Model Accuracy: 1.00\n"
          ]
        }
      ]
    },
    {
      "cell_type": "code",
      "source": [
        "#QSN-17-Write a Python program to train a Decision Tree Classifier using Gini Impurity as the criterion and print the feature importances.\n",
        "\n",
        "#ANS-\n",
        "# Import necessary libraries\n",
        "from sklearn.datasets import load_iris\n",
        "from sklearn.model_selection import train_test_split\n",
        "from sklearn.tree import DecisionTreeClassifier\n",
        "\n",
        "# Load the Iris dataset\n",
        "iris = load_iris()\n",
        "X = iris.data\n",
        "y = iris.target\n",
        "feature_names = iris.feature_names\n",
        "\n",
        "# Split the dataset into training and testing sets\n",
        "X_train, X_test, y_train, y_test = train_test_split(X, y, test_size=0.2, random_state=42)\n",
        "\n",
        "# Create a Decision Tree Classifier with Gini Impurity as the criterion\n",
        "clf = DecisionTreeClassifier(criterion='gini', random_state=42)\n",
        "\n",
        "# Train the model\n",
        "clf.fit(X_train, y_train)\n",
        "\n",
        "# Print the feature importances\n",
        "feature_importances = clf.feature_importances_\n",
        "for feature_name, importance in zip(feature_names, feature_importances):\n",
        "    print(f\"{feature_name}: {importance:.2f}\")\n"
      ],
      "metadata": {
        "colab": {
          "base_uri": "https://localhost:8080/"
        },
        "id": "Ixwl5tnBygTC",
        "outputId": "62e27f98-ed22-497a-ded6-3e0f18e33b2e"
      },
      "execution_count": null,
      "outputs": [
        {
          "output_type": "stream",
          "name": "stdout",
          "text": [
            "sepal length (cm): 0.00\n",
            "sepal width (cm): 0.02\n",
            "petal length (cm): 0.91\n",
            "petal width (cm): 0.08\n"
          ]
        }
      ]
    },
    {
      "cell_type": "code",
      "source": [
        "#QSN-18-Write a Python program to train a Decision Tree Classifier using Entropy as the splitting criterion and print the model accuracy.\n",
        "\n",
        "#ANS-\n",
        "iris = load_iris()\n",
        "X = iris.data\n",
        "y = iris.target\n",
        "\n",
        "# Split the dataset into training and testing sets\n",
        "X_train, X_test, y_train, y_test = train_test_split(X, y, test_size=0.2, random_state=42)\n",
        "\n",
        "# Create a Decision Tree Classifier with Entropy as the criterion\n",
        "clf = DecisionTreeClassifier(criterion='entropy', random_state=42)\n",
        "\n",
        "# Train the model\n",
        "clf.fit(X_train, y_train)\n",
        "\n",
        "# Make predictions\n",
        "y_pred = clf.predict(X_test)\n",
        "\n",
        "# Calculate and print the model accuracy\n",
        "accuracy = accuracy_score(y_test, y_pred)\n",
        "print(f\"Model Accuracy: {accuracy:.2f}\")\n"
      ],
      "metadata": {
        "colab": {
          "base_uri": "https://localhost:8080/"
        },
        "id": "d48cvE-4yy-2",
        "outputId": "a2086460-a3ca-4aa8-ad29-5f861ec9484c"
      },
      "execution_count": null,
      "outputs": [
        {
          "output_type": "stream",
          "name": "stdout",
          "text": [
            "Model Accuracy: 1.00\n"
          ]
        }
      ]
    },
    {
      "cell_type": "code",
      "source": [
        "#QSN-19-Write a Python program to train a Decision Tree Regressor on a housing dataset and evaluate using Mean Squared Error (MSE)\n",
        "\n",
        "#ANS-\n",
        "from sklearn.datasets import fetch_california_housing\n",
        "from sklearn.model_selection import train_test_split\n",
        "from sklearn.tree import DecisionTreeRegressor\n",
        "from sklearn.metrics import mean_squared_error\n",
        "\n",
        "# Load the California Housing dataset\n",
        "cal_housing = fetch_california_housing()\n",
        "X = cal_housing.data\n",
        "y = cal_housing.target\n",
        "\n",
        "# Split the dataset into training and testing sets\n",
        "X_train, X_test, y_train, y_test = train_test_split(X, y, test_size=0.2, random_state=42)\n",
        "\n",
        "# Create a Decision Tree Regressor\n",
        "regressor = DecisionTreeRegressor(random_state=42)\n",
        "\n",
        "# Train the model\n",
        "regressor.fit(X_train, y_train)\n",
        "\n",
        "# Make predictions\n",
        "y_pred = regressor.predict(X_test)\n",
        "\n",
        "# Calculate and print the Mean Squared Error (MSE)\n",
        "mse = mean_squared_error(y_test, y_pred)\n",
        "print(f\"Mean Squared Error (MSE): {mse:.2f}\")\n",
        "\n",
        "\n",
        "\n",
        "\n"
      ],
      "metadata": {
        "colab": {
          "base_uri": "https://localhost:8080/"
        },
        "id": "uLoaIVnFzLga",
        "outputId": "865459c4-eec2-4489-f9c4-c780c8c2634b"
      },
      "execution_count": null,
      "outputs": [
        {
          "output_type": "stream",
          "name": "stdout",
          "text": [
            "Mean Squared Error (MSE): 0.50\n"
          ]
        }
      ]
    },
    {
      "cell_type": "code",
      "source": [
        "#QSN-20-Write a Python program to train a Decision Tree Classifier and visualize the tree using graphviz.\n",
        "\n",
        "#ANS-\n",
        "# Import necessary libraries\n",
        "from sklearn.datasets import load_iris\n",
        "from sklearn.model_selection import train_test_split\n",
        "from sklearn.tree import DecisionTreeClassifier\n",
        "from sklearn.tree import export_graphviz\n",
        "import graphviz\n",
        "\n",
        "# Load the Iris dataset\n",
        "iris = load_iris()\n",
        "X = iris.data\n",
        "y = iris.target\n",
        "\n",
        "# Split the dataset into training and testing sets\n",
        "X_train, X_test, y_train, y_test = train_test_split(X, y, test_size=0.2, random_state=42)\n",
        "\n",
        "# Create a Decision Tree Classifier\n",
        "clf = DecisionTreeClassifier(random_state=42)\n",
        "\n",
        "# Train the model\n",
        "clf.fit(X_train, y_train)\n",
        "\n",
        "# Export the Decision Tree to a graphviz dot file\n",
        "dot_data = export_graphviz(clf, out_file=None,\n",
        "                           feature_names=iris.feature_names,\n",
        "                           class_names=iris.target_names,\n",
        "                           filled=True, rounded=True)\n",
        "\n",
        "# Visualize the Decision Tree\n",
        "graph = graphviz.Source(dot_data)\n",
        "graph.render('iris_decision_tree', format='png')\n"
      ],
      "metadata": {
        "colab": {
          "base_uri": "https://localhost:8080/",
          "height": 35
        },
        "id": "2ey-Wkfu1UKt",
        "outputId": "a16c891a-9444-4a52-ca4b-91473b0a8088"
      },
      "execution_count": null,
      "outputs": [
        {
          "output_type": "execute_result",
          "data": {
            "text/plain": [
              "'iris_decision_tree.png'"
            ],
            "application/vnd.google.colaboratory.intrinsic+json": {
              "type": "string"
            }
          },
          "metadata": {},
          "execution_count": 10
        }
      ]
    },
    {
      "cell_type": "code",
      "source": [
        "#QSN-21-Write a Python program to train a Decision Tree Classifier with a maximum depth of 3 and compare its accuracy with a fully grown tree\n",
        "\n",
        "#ANS-\n",
        "# Import necessary libraries\n",
        "from sklearn.datasets import load_iris\n",
        "from sklearn.model_selection import train_test_split\n",
        "from sklearn.tree import DecisionTreeClassifier\n",
        "from sklearn.metrics import accuracy_score\n",
        "\n",
        "# Load the Iris dataset\n",
        "iris = load_iris()\n",
        "X = iris.data\n",
        "y = iris.target\n",
        "\n",
        "# Split the dataset into training and testing sets\n",
        "X_train, X_test, y_train, y_test = train_test_split(X, y, test_size=0.2, random_state=42)\n",
        "\n",
        "# Create a fully grown Decision Tree Classifier\n",
        "full_tree = DecisionTreeClassifier(random_state=42)\n",
        "full_tree.fit(X_train, y_train)\n",
        "full_tree_pred = full_tree.predict(X_test)\n",
        "full_tree_accuracy = accuracy_score(y_test, full_tree_pred)\n",
        "print(f\"Fully Grown Tree Accuracy: {full_tree_accuracy:.2f}\")\n",
        "\n",
        "# Create a Decision Tree Classifier with a maximum depth of 3\n",
        "limited_depth_tree = DecisionTreeClassifier(max_depth=3, random_state=42)\n",
        "limited_depth_tree.fit(X_train, y_train)\n",
        "limited_depth_tree_pred = limited_depth_tree.predict(X_test)\n",
        "limited_depth_tree_accuracy = accuracy_score(y_test, limited_depth_tree_pred)\n",
        "print(f\"Tree with Max Depth 3 Accuracy: {limited_depth_tree_accuracy:.2f}\")\n",
        "\n",
        "# Compare the accuracy\n",
        "accuracy_diff = full_tree_accuracy - limited_depth_tree_accuracy\n",
        "print(f\"Difference in Accuracy: {accuracy_diff:.2f}\")\n",
        "if full_tree_accuracy > limited_depth_tree_accuracy:\n",
        "    print(\"The fully grown tree performs better.\")\n",
        "elif full_tree_accuracy < limited_depth_tree_accuracy:\n",
        "    print(\"The tree with max depth 3 performs better.\")\n",
        "else:\n",
        "    print(\"Both trees have the same performance.\")\n"
      ],
      "metadata": {
        "colab": {
          "base_uri": "https://localhost:8080/"
        },
        "id": "OHbyw5Dh13io",
        "outputId": "10c882b9-8421-4428-9fee-8918785a62de"
      },
      "execution_count": null,
      "outputs": [
        {
          "output_type": "stream",
          "name": "stdout",
          "text": [
            "Fully Grown Tree Accuracy: 1.00\n",
            "Tree with Max Depth 3 Accuracy: 1.00\n",
            "Difference in Accuracy: 0.00\n",
            "Both trees have the same performance.\n"
          ]
        }
      ]
    },
    {
      "cell_type": "code",
      "source": [
        "#QSN-22-Write a Python program to train a Decision Tree Classifier using min_samples_split=5 and compare its accuracy with a default tree.\n",
        "\n",
        "#ANS-\n",
        "# Import necessary libraries\n",
        "from sklearn.datasets import load_iris\n",
        "from sklearn.model_selection import train_test_split\n",
        "from sklearn.tree import DecisionTreeClassifier\n",
        "from sklearn.metrics import accuracy_score\n",
        "\n",
        "# Load the Iris dataset\n",
        "iris = load_iris()\n",
        "X = iris.data\n",
        "y = iris.target\n",
        "\n",
        "# Split the dataset into training and testing sets\n",
        "X_train, X_test, y_train, y_test = train_test_split(X, y, test_size=0.2, random_state=42)\n",
        "\n",
        "# Create a default Decision Tree Classifier\n",
        "default_tree = DecisionTreeClassifier(random_state=42)\n",
        "default_tree.fit(X_train, y_train)\n",
        "default_tree_pred = default_tree.predict(X_test)\n",
        "default_tree_accuracy = accuracy_score(y_test, default_tree_pred)\n",
        "print(f\"Default Tree Accuracy: {default_tree_accuracy:.2f}\")\n",
        "\n",
        "# Create a Decision Tree Classifier with min_samples_split=5\n",
        "min_samples_split_tree = DecisionTreeClassifier(min_samples_split=5, random_state=42)\n",
        "min_samples_split_tree.fit(X_train, y_train)\n",
        "min_samples_split_tree_pred = min_samples_split_tree.predict(X_test)\n",
        "min_samples_split_tree_accuracy = accuracy_score(y_test, min_samples_split_tree_pred)\n",
        "print(f\"Tree with min_samples_split=5 Accuracy:{min_samples_split_tree_accuracy:.2f}\")\n",
        "\n",
        "# Compare the accuracy\n",
        "accuracy_diff = default_tree_accuracy - min_samples_split_tree_accuracy\n",
        "print(f\"Difference in Accuracy: {accuracy_diff:.2f}\")\n",
        "if default_tree_accuracy > min_samples_split_tree_accuracy:\n",
        "    print(\"The default tree performs better.\")\n",
        "elif default_tree_accuracy < min_samples_split_tree_accuracy:\n",
        "    print(\"The tree with min_samples_split=5 performs better.\")\n",
        "else:\n",
        "    print(\"Both trees have the same performance.\")\n"
      ],
      "metadata": {
        "colab": {
          "base_uri": "https://localhost:8080/"
        },
        "id": "DTsZEzzq2Y00",
        "outputId": "46ac70b6-e22f-4d5a-c42f-0c093cc5f8fe"
      },
      "execution_count": null,
      "outputs": [
        {
          "output_type": "stream",
          "name": "stdout",
          "text": [
            "Default Tree Accuracy: 1.00\n",
            "Tree with min_samples_split=5 Accuracy:1.00\n",
            "Difference in Accuracy: 0.00\n",
            "Both trees have the same performance.\n"
          ]
        }
      ]
    },
    {
      "cell_type": "code",
      "source": [
        "#QSN-23-Write a Python program to apply feature scaling before training a Decision Tree Classifier and compare its accuracy with unscaled data*\n",
        "\n",
        "#ANS-\n",
        "from sklearn.datasets import load_iris\n",
        "from sklearn.model_selection import train_test_split\n",
        "from sklearn.tree import DecisionTreeClassifier\n",
        "from sklearn.preprocessing import StandardScaler\n",
        "from sklearn.metrics import accuracy_score\n",
        "\n",
        "# Load the Iris dataset\n",
        "iris = load_iris()\n",
        "X = iris.data\n",
        "y = iris.target\n",
        "\n",
        "# Split the dataset into training and testing sets\n",
        "X_train, X_test, y_train, y_test = train_test_split(X, y, test_size=0.2, random_state=42)\n",
        "\n",
        "# Train a Decision Tree Classifier on unscaled data\n",
        "unscaled_tree = DecisionTreeClassifier(random_state=42)\n",
        "unscaled_tree.fit(X_train, y_train)\n",
        "unscaled_tree_pred = unscaled_tree.predict(X_test)\n",
        "unscaled_tree_accuracy = accuracy_score(y_test, unscaled_tree_pred)\n",
        "print(f\"Unscaled Data Accuracy: {unscaled_tree_accuracy:.2f}\")\n",
        "\n",
        "# Apply feature scaling using StandardScaler\n",
        "scaler = StandardScaler()\n",
        "X_train_scaled = scaler.fit_transform(X_train)\n",
        "X_test_scaled = scaler.transform(X_test)\n",
        "\n",
        "# Train a Decision Tree Classifier on scaled data\n",
        "scaled_tree = DecisionTreeClassifier(random_state=42)\n",
        "scaled_tree.fit(X_train_scaled, y_train)\n",
        "scaled_tree_pred = scaled_tree.predict(X_test_scaled)\n",
        "scaled_tree_accuracy = accuracy_score(y_test, scaled_tree_pred)\n",
        "print(f\"Scaled Data Accuracy: {scaled_tree_accuracy:.2f}\")\n",
        "\n",
        "# Compare the accuracy\n",
        "accuracy_diff = unscaled_tree_accuracy - scaled_tree_accuracy\n",
        "print(f\"Difference in Accuracy: {accuracy_diff:.2f}\")\n",
        "if unscaled_tree_accuracy > scaled_tree_accuracy:\n",
        "    print(\"The unscaled data performs better.\")\n",
        "elif unscaled_tree_accuracy < scaled_tree_accuracy:\n",
        "    print(\"The scaled data performs better.\")\n",
        "else:\n",
        "    print(\"Both have the same performance.\")\n",
        "\n"
      ],
      "metadata": {
        "colab": {
          "base_uri": "https://localhost:8080/"
        },
        "id": "dKGsTkJCxEFG",
        "outputId": "0e18f4e3-c26b-4a14-9602-f18a3432dcd0"
      },
      "execution_count": 1,
      "outputs": [
        {
          "output_type": "stream",
          "name": "stdout",
          "text": [
            "Unscaled Data Accuracy: 1.00\n",
            "Scaled Data Accuracy: 1.00\n",
            "Difference in Accuracy: 0.00\n",
            "Both have the same performance.\n"
          ]
        }
      ]
    },
    {
      "cell_type": "code",
      "source": [
        "#QSN-24-Write a Python program to train a Decision Tree Classifier using One-vs-Rest (OvR) strategy for multiclass classification\n",
        "\n",
        "#ANS-\n",
        "# Import necessary libraries\n",
        "from sklearn.datasets import load_iris\n",
        "from sklearn.model_selection import train_test_split\n",
        "from sklearn.tree import DecisionTreeClassifier\n",
        "from sklearn.multiclass import OneVsRestClassifier\n",
        "from sklearn.metrics import accuracy_score, classification_report\n",
        "\n",
        "# Load the Iris dataset\n",
        "iris = load_iris()\n",
        "X = iris.data\n",
        "y = iris.target\n",
        "\n",
        "# Split the dataset into training and testing sets\n",
        "X_train, X_test, y_train, y_test = train_test_split(X, y, test_size=0.2, random_state=42)\n",
        "\n",
        "# Create a Decision Tree Classifier\n",
        "base_tree = DecisionTreeClassifier(random_state=42)\n",
        "\n",
        "# Create a One-vs-Rest classifier using the Decision Tree Classifier\n",
        "ovr_tree = OneVsRestClassifier(base_tree)\n",
        "\n",
        "# Train the One-vs-Rest classifier\n",
        "ovr_tree.fit(X_train, y_train)\n",
        "\n",
        "# Make predictions\n",
        "ovr_tree_pred = ovr_tree.predict(X_test)\n",
        "\n",
        "# Calculate and print the accuracy\n",
        "ovr_tree_accuracy = accuracy_score(y_test, ovr_tree_pred)\n",
        "print(f\"One-vs-Rest Decision Tree Accuracy: {ovr_tree_accuracy:.2f}\")\n",
        "\n",
        "# Print the classification report\n",
        "print(\"Classification Report:\")\n",
        "print(classification_report(y_test, ovr_tree_pred))"
      ],
      "metadata": {
        "colab": {
          "base_uri": "https://localhost:8080/"
        },
        "id": "qJGhfspAxsjD",
        "outputId": "d1ed2174-96ae-4fa5-d096-2dbe6fde3295"
      },
      "execution_count": 2,
      "outputs": [
        {
          "output_type": "stream",
          "name": "stdout",
          "text": [
            "One-vs-Rest Decision Tree Accuracy: 1.00\n",
            "Classification Report:\n",
            "              precision    recall  f1-score   support\n",
            "\n",
            "           0       1.00      1.00      1.00        10\n",
            "           1       1.00      1.00      1.00         9\n",
            "           2       1.00      1.00      1.00        11\n",
            "\n",
            "    accuracy                           1.00        30\n",
            "   macro avg       1.00      1.00      1.00        30\n",
            "weighted avg       1.00      1.00      1.00        30\n",
            "\n"
          ]
        }
      ]
    },
    {
      "cell_type": "code",
      "source": [
        "#QSN-25-Write a Python program to train a Decision Tree Classifier and display the feature importance scores.\n",
        "\n",
        "#ANS-\n",
        "from sklearn.datasets import load_iris\n",
        "from sklearn.model_selection import train_test_split\n",
        "from sklearn.tree import DecisionTreeClassifier\n",
        "import matplotlib.pyplot as plt\n",
        "\n",
        "# Load the Iris dataset\n",
        "iris = load_iris()\n",
        "X = iris.data\n",
        "y = iris.target\n",
        "feature_names = iris.feature_names\n",
        "\n",
        "# Split the dataset into training and testing sets\n",
        "X_train, X_test, y_train, y_test = train_test_split(X, y, test_size=0.2, random_state=42)\n",
        "\n",
        "# Create a Decision Tree Classifier\n",
        "clf = DecisionTreeClassifier(random_state=42)\n",
        "\n",
        "# Train the model\n",
        "clf.fit(X_train, y_train)\n",
        "\n",
        "# Get the feature importance scores\n",
        "feature_importances = clf.feature_importances_\n",
        "\n",
        "# Display the feature importance scores\n",
        "print(\"Feature Importance Scores:\")\n",
        "for feature_name, importance in zip(feature_names, feature_importances):\n",
        "    print(f\"{feature_name}: {importance:.2f}\")\n",
        "# Plot the feature importance scores\n",
        "plt.bar(feature_names, feature_importances)\n",
        "plt.xlabel(\"Feature\")\n",
        "plt.ylabel(\"Importance\")\n",
        "plt.title(\"Feature Importance Scores\")\n",
        "plt.show()"
      ],
      "metadata": {
        "colab": {
          "base_uri": "https://localhost:8080/",
          "height": 559
        },
        "id": "PcmsZMCUyRVB",
        "outputId": "72188c07-8c36-4d99-a8e9-aa70fbe928b7"
      },
      "execution_count": 3,
      "outputs": [
        {
          "output_type": "stream",
          "name": "stdout",
          "text": [
            "Feature Importance Scores:\n",
            "sepal length (cm): 0.00\n",
            "sepal width (cm): 0.02\n",
            "petal length (cm): 0.91\n",
            "petal width (cm): 0.08\n"
          ]
        },
        {
          "output_type": "display_data",
          "data": {
            "text/plain": [
              "<Figure size 640x480 with 1 Axes>"
            ],
            "image/png": "[encoded data removed]"
          },
          "metadata": {}
        }
      ]
    },
    {
      "cell_type": "code",
      "source": [
        "#QSN-26- Write a Python program to train a Decision Tree Regressor with max_depth=5 and compare its performance with an unrestricted tree*\n",
        "\n",
        "#ANS-\n",
        "# Import necessary libraries\n",
        "from sklearn.datasets import fetch_california_housing\n",
        "from sklearn.model_selection import train_test_split\n",
        "from sklearn.tree import DecisionTreeRegressor\n",
        "from sklearn.metrics import mean_squared_error\n",
        "\n",
        "# Load the California Housing dataset\n",
        "cal_housing = fetch_california_housing()\n",
        "X = cal_housing.data\n",
        "y = cal_housing.target\n",
        "\n",
        "# Split the dataset into training and testing sets\n",
        "X_train, X_test, y_train, y_test = train_test_split(X, y, test_size=0.2, random_state=42)\n",
        "\n",
        "# Train an unrestricted Decision Tree Regressor\n",
        "unrestricted_tree = DecisionTreeRegressor(random_state=42)\n",
        "unrestricted_tree.fit(X_train, y_train)\n",
        "unrestricted_tree_pred = unrestricted_tree.predict(X_test)\n",
        "unrestricted_tree_mse = mean_squared_error(y_test, unrestricted_tree_pred)\n",
        "print(f\"Unrestricted Tree MSE: {unrestricted_tree_mse:.2f}\")\n",
        "\n",
        "# Train a Decision Tree Regressor with max_depth=5\n",
        "restricted_tree = DecisionTreeRegressor(max_depth=5, random_state=42)\n",
        "restricted_tree.fit(X_train, y_train)\n",
        "restricted_tree_pred = restricted_tree.predict(X_test)\n",
        "restricted_tree_mse = mean_squared_error(y_test, restricted_tree_pred)\n",
        "print(f\"Tree with max_depth=5 MSE: {restricted_tree_mse:.2f}\")\n",
        "\n",
        "# Compare the performance\n",
        "mse_diff = unrestricted_tree_mse - restricted_tree_mse\n",
        "print(f\"Difference in MSE: {mse_diff:.2f}\")\n",
        "if unrestricted_tree_mse < restricted_tree_mse:\n",
        "    print(\"The unrestricted tree performs better.\")\n",
        "elif unrestricted_tree_mse > restricted_tree_mse:\n",
        "    print(\"The tree with max_depth=5 performs better.\")\n",
        "else:\n",
        "    print(\"Both trees have the same performance.\")"
      ],
      "metadata": {
        "colab": {
          "base_uri": "https://localhost:8080/"
        },
        "id": "FEZLpe15y2JD",
        "outputId": "1ea4985f-adc7-4df3-fd2d-55414ca7ee4d"
      },
      "execution_count": 4,
      "outputs": [
        {
          "output_type": "stream",
          "name": "stdout",
          "text": [
            "Unrestricted Tree MSE: 0.50\n",
            "Tree with max_depth=5 MSE: 0.52\n",
            "Difference in MSE: -0.03\n",
            "The unrestricted tree performs better.\n"
          ]
        }
      ]
    },
    {
      "cell_type": "code",
      "source": [
        "#QSN-27-Write a Python program to train a Decision Tree Classifier, apply Cost Complexity Pruning (CCP), and visualize its effect on accuracy*\n",
        "\n",
        "#ANS-\n",
        "# Import necessary libraries\n",
        "from sklearn.datasets import load_iris\n",
        "from sklearn.model_selection import train_test_split\n",
        "from sklearn.tree import DecisionTreeClassifier\n",
        "from sklearn.metrics import accuracy_score\n",
        "import matplotlib.pyplot as plt\n",
        "import numpy as np\n",
        "\n",
        "# Load the Iris dataset\n",
        "iris = load_iris()\n",
        "X = iris.data\n",
        "y = iris.target\n",
        "\n",
        "# Split the dataset into training and testing sets\n",
        "X_train, X_test, y_train, y_test = train_test_split(X, y, test_size=0.2, random_state=42)\n",
        "\n",
        "# Train a Decision Tree Classifier\n",
        "clf = DecisionTreeClassifier(random_state=42)\n",
        "clf.fit(X_train, y_train)\n",
        "\n",
        "# Calculate the accuracy of the full tree\n",
        "full_tree_pred = clf.predict(X_test)\n",
        "full_tree_accuracy = accuracy_score(y_test, full_tree_pred)\n",
        "\n",
        "# Apply Cost Complexity Pruning (CCP)\n",
        "path = clf.cost_complexity_pruning_path(X_train, y_train)\n",
        "ccp_alphas = path.ccp_alphas\n",
        "accuracies = []\n",
        "for ccp_alpha in ccp_alphas:\n",
        "    clf = DecisionTreeClassifier(random_state=42, ccp_alpha=ccp_alpha)\n",
        "    clf.fit(X_train, y_train)\n",
        "    y_pred = clf.predict(X_test)\n",
        "    accuracy = accuracy_score(y_test, y_pred)\n",
        "    accuracies.append(accuracy)\n",
        "\n",
        "# Plot the effect of CCP alpha on accuracy\n",
        "plt.plot(ccp_alphas, accuracies)\n",
        "plt.xlabel(\"CCP Alpha\")\n",
        "plt.ylabel(\"Accuracy\")\n",
        "plt.title(\"Effect of Cost Complexity Pruning on Accuracy\")\n",
        "plt.show()\n",
        "\n",
        "# Find the best CCP alpha\n",
        "best_alpha_idx = np.argmax(accuracies)\n",
        "best_alpha = ccp_alphas[best_alpha_idx]\n",
        "best_accuracy = accuracies[best_alpha_idx]\n",
        "\n",
        "print(f\"Best CCP Alpha: {best_alpha:.4f}\")\n",
        "print(f\"Best Accuracy: {best_accuracy:.4f}\")\n",
        "print(f\"Full Tree Accuracy: {full_tree_accuracy:.4f}\")\n"
      ],
      "metadata": {
        "colab": {
          "base_uri": "https://localhost:8080/",
          "height": 524
        },
        "id": "zGgyf5S2zRHV",
        "outputId": "90e3df72-c326-4780-a1c8-e660ec97de51"
      },
      "execution_count": 5,
      "outputs": [
        {
          "output_type": "display_data",
          "data": {
            "text/plain": [
              "<Figure size 640x480 with 1 Axes>"
            ],
            "image/png": "[encoded data removed]"
          },
          "metadata": {}
        },
        {
          "output_type": "stream",
          "name": "stdout",
          "text": [
            "Best CCP Alpha: 0.0000\n",
            "Best Accuracy: 1.0000\n",
            "Full Tree Accuracy: 1.0000\n"
          ]
        }
      ]
    },
    {
      "cell_type": "code",
      "source": [
        "#QSN-28-Write a Python program to train a Decision Tree Classifier and evaluate its performance using Precision,Recall, and F1-Score*\n",
        "\n",
        "#ANS-\n",
        "from sklearn.datasets import load_iris\n",
        "from sklearn.model_selection import train_test_split\n",
        "from sklearn.tree import DecisionTreeClassifier\n",
        "from sklearn.metrics import precision_score, recall_score, f1_score, classification_report\n",
        "\n",
        "# Load the Iris dataset\n",
        "iris = load_iris()\n",
        "X = iris.data\n",
        "y = iris.target\n",
        "\n",
        "# Split the dataset into training and testing sets\n",
        "X_train, X_test, y_train, y_test = train_test_split(X, y, test_size=0.2, random_state=42)\n",
        "\n",
        "# Train a Decision Tree Classifier\n",
        "clf = DecisionTreeClassifier(random_state=42)\n",
        "clf.fit(X_train, y_train)\n",
        "\n",
        "# Make predictions\n",
        "y_pred = clf.predict(X_test)\n",
        "\n",
        "# Calculate Precision, Recall, and F1-Score\n",
        "precision = precision_score(y_test, y_pred, average='weighted')\n",
        "recall = recall_score(y_test, y_pred, average='weighted')\n",
        "f1 = f1_score(y_test, y_pred, average='weighted')\n",
        "\n",
        "print(f\"Precision: {precision:.2f}\")\n",
        "print(f\"Recall: {recall:.2f}\")\n",
        "print(f\"F1-Score: {f1:.2f}\")\n",
        "\n",
        "# Print the classification report\n",
        "print(\"\\nClassification Report:\")\n",
        "print(classification_report(y_test, y_pred))\n"
      ],
      "metadata": {
        "colab": {
          "base_uri": "https://localhost:8080/"
        },
        "id": "V1Hd-xXrzsMq",
        "outputId": "1d0ab5d9-55b2-4dfc-ffed-977ceaf9ef45"
      },
      "execution_count": 6,
      "outputs": [
        {
          "output_type": "stream",
          "name": "stdout",
          "text": [
            "Precision: 1.00\n",
            "Recall: 1.00\n",
            "F1-Score: 1.00\n",
            "\n",
            "Classification Report:\n",
            "              precision    recall  f1-score   support\n",
            "\n",
            "           0       1.00      1.00      1.00        10\n",
            "           1       1.00      1.00      1.00         9\n",
            "           2       1.00      1.00      1.00        11\n",
            "\n",
            "    accuracy                           1.00        30\n",
            "   macro avg       1.00      1.00      1.00        30\n",
            "weighted avg       1.00      1.00      1.00        30\n",
            "\n"
          ]
        }
      ]
    },
    {
      "cell_type": "code",
      "source": [
        "#QSN-29- Write a Python program to train a Decision Tree Classifier and visualize the confusion matrix using seaborn.\n",
        "\n",
        "#ANS-\n",
        "from sklearn.datasets import load_iris\n",
        "from sklearn.model_selection import train_test_split\n",
        "from sklearn.tree import DecisionTreeClassifier\n",
        "from sklearn.metrics import confusion_matrix\n",
        "import seaborn as sns\n",
        "import matplotlib.pyplot as plt\n",
        "\n",
        "# Load the Iris dataset\n",
        "iris = load_iris()\n",
        "X = iris.data\n",
        "y = iris.target\n",
        "\n",
        "# Split the dataset into training and testing sets\n",
        "X_train, X_test, y_train, y_test = train_test_split(X, y, test_size=0.2, random_state=42)\n",
        "\n",
        "# Train a Decision Tree Classifier\n",
        "clf = DecisionTreeClassifier(random_state=42)\n",
        "clf.fit(X_train, y_train)\n",
        "\n",
        "# Make predictions\n",
        "y_pred = clf.predict(X_test)\n",
        "\n",
        "# Calculate the confusion matrix\n",
        "cm = confusion_matrix(y_test, y_pred)\n",
        "\n",
        "# Visualize the confusion matrix using seaborn\n",
        "plt.figure(figsize=(8, 6))\n",
        "sns.heatmap(cm, annot=True, cmap='Blues', fmt='d', xticklabels=iris.target_names, yticklabels=iris.target_names)\n",
        "plt.xlabel('Predicted Labels')\n",
        "plt.ylabel('True Labels')\n",
        "plt.title('Confusion Matrix')\n",
        "plt.show()\n"
      ],
      "metadata": {
        "colab": {
          "base_uri": "https://localhost:8080/",
          "height": 564
        },
        "id": "qndAQC130GFK",
        "outputId": "e50d6bce-e0ab-4c5f-e884-8e256a7e8a37"
      },
      "execution_count": 7,
      "outputs": [
        {
          "output_type": "display_data",
          "data": {
            "text/plain": [
              "<Figure size 800x600 with 2 Axes>"
            ],
            "image/png": "[encoded data removed]"
          },
          "metadata": {}
        }
      ]
    },
    {
      "cell_type": "code",
      "source": [
        "#QSN-30-Write a Python program to train a Decision Tree Classifier and use GridSearchCV to find the optimal valuesfor max_depth and min_samples_split.\n",
        "\n",
        "\n",
        "#ANS-\n",
        "from sklearn.datasets import load_iris\n",
        "from sklearn.model_selection import train_test_split, GridSearchCV\n",
        "from sklearn.tree import DecisionTreeClassifier\n",
        "from sklearn.metrics import accuracy_score, classification_report\n",
        "\n",
        "# Load the Iris dataset\n",
        "iris = load_iris()\n",
        "X = iris.data\n",
        "y = iris.target\n",
        "\n",
        "# Split the dataset into training and testing sets\n",
        "X_train, X_test, y_train, y_test = train_test_split(X, y, test_size=0.2, random_state=42)\n",
        "\n",
        "# Define the hyperparameter grid\n",
        "param_grid = {\n",
        "    'max_depth': [3, 5, 7, 10],\n",
        "    'min_samples_split': [2, 5, 10]\n",
        "}\n",
        "\n",
        "# Create a Decision Tree Classifier\n",
        "clf = DecisionTreeClassifier(random_state=42)\n",
        "\n",
        "# Perform grid search\n",
        "grid_search = GridSearchCV(estimator=clf, param_grid=param_grid, cv=5)\n",
        "grid_search.fit(X_train, y_train)\n",
        "\n",
        "# Print the best parameters\n",
        "print(f\"Best Parameters: {grid_search.best_params_}\")\n",
        "\n",
        "# Print the best cross-validation score\n",
        "print(f\"Best Cross-Validation Score: {grid_search.best_score_:.2f}\")\n",
        "# Train a Decision Tree Classifier with the best parameters\n",
        "best_clf = DecisionTreeClassifier(**grid_search.best_params_, random_state=42)\n",
        "best_clf.fit(X_train, y_train)\n",
        "\n",
        "# Make predictions\n",
        "y_pred = best_clf.predict(X_test)\n",
        "\n",
        "# Calculate the accuracy\n",
        "accuracy = accuracy_score(y_test, y_pred)\n",
        "print(f\"Test Accuracy: {accuracy:.2f}\")\n",
        "\n",
        "# Print the classification report\n",
        "print(\"Classification Report:\")\n",
        "print(classification_report(y_test, y_pred))"
      ],
      "metadata": {
        "colab": {
          "base_uri": "https://localhost:8080/"
        },
        "id": "AlUIehfW1EXG",
        "outputId": "5a3d7825-7ac5-4f8a-a883-352c67df31da"
      },
      "execution_count": 8,
      "outputs": [
        {
          "output_type": "stream",
          "name": "stdout",
          "text": [
            "Best Parameters: {'max_depth': 7, 'min_samples_split': 2}\n",
            "Best Cross-Validation Score: 0.94\n",
            "Test Accuracy: 1.00\n",
            "Classification Report:\n",
            "              precision    recall  f1-score   support\n",
            "\n",
            "           0       1.00      1.00      1.00        10\n",
            "           1       1.00      1.00      1.00         9\n",
            "           2       1.00      1.00      1.00        11\n",
            "\n",
            "    accuracy                           1.00        30\n",
            "   macro avg       1.00      1.00      1.00        30\n",
            "weighted avg       1.00      1.00      1.00        30\n",
            "\n"
          ]
        }
      ]
    }
  ]
}